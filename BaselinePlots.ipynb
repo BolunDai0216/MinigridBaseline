{
 "cells": [
  {
   "cell_type": "code",
   "execution_count": 1,
   "id": "e8ed994c",
   "metadata": {},
   "outputs": [],
   "source": [
    "from pathlib import Path\n",
    "from tensorboard.backend.event_processing.event_accumulator import EventAccumulator"
   ]
  },
  {
   "cell_type": "code",
   "execution_count": 13,
   "id": "63a73b29",
   "metadata": {},
   "outputs": [],
   "source": [
    "def get_event_files(env, alg=\"ppo\"):\n",
    "    event_files = []\n",
    "    directory_path = Path(f\"./logs/{alg}/{env}_tensorboard\")\n",
    "    \n",
    "    for d in directory_path.iterdir():\n",
    "        if d.is_dir():\n",
    "            event_files.append(str(next(d.iterdir())))\n",
    "    \n",
    "    return event_files\n",
    "\n",
    "def get_rewards_from_event_files(event_files):\n",
    "    rewards = []\n",
    "    \n",
    "    for file in event_files:\n",
    "        event_acc = EventAccumulator(event_files[0])\n",
    "        event_acc.Reload()\n",
    "\n",
    "        # Get the reward data\n",
    "        reward_data = event_acc.Scalars(\"rollout/ep_rew_mean\")\n",
    "\n",
    "        # Extract the step numbers and corresponding rewards\n",
    "        _steps = [entry.step for entry in reward_data]\n",
    "        _rewards = [entry.value for entry in reward_data]\n",
    "        \n",
    "        rewards.append(\n",
    "            {\n",
    "                \"file\": file,\n",
    "                \"steps\": _steps,\n",
    "                \"_rewards\": _rewards,\n",
    "                \"steps_length\": len(_steps),\n",
    "                \"rewards_length\": len(_rewards),\n",
    "            }\n",
    "        )\n",
    "    \n",
    "    return rewards"
   ]
  },
  {
   "cell_type": "code",
   "execution_count": 14,
   "id": "85076276",
   "metadata": {},
   "outputs": [],
   "source": [
    "event_files = get_event_files(\"MiniGrid-Empty-16x16-v0\", alg=\"ppo\")"
   ]
  },
  {
   "cell_type": "code",
   "execution_count": 15,
   "id": "d08464ad",
   "metadata": {},
   "outputs": [],
   "source": [
    "rewards = get_rewards_from_event_files(event_files)"
   ]
  },
  {
   "cell_type": "code",
   "execution_count": null,
   "id": "38a22fd8",
   "metadata": {},
   "outputs": [],
   "source": []
  }
 ],
 "metadata": {
  "kernelspec": {
   "display_name": "Python 3 (ipykernel)",
   "language": "python",
   "name": "python3"
  },
  "language_info": {
   "codemirror_mode": {
    "name": "ipython",
    "version": 3
   },
   "file_extension": ".py",
   "mimetype": "text/x-python",
   "name": "python",
   "nbconvert_exporter": "python",
   "pygments_lexer": "ipython3",
   "version": "3.8.16"
  }
 },
 "nbformat": 4,
 "nbformat_minor": 5
}
